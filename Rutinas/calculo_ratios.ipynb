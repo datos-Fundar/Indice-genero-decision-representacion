{
 "cells": [
  {
   "cell_type": "code",
   "execution_count": 1,
   "metadata": {},
   "outputs": [],
   "source": [
    "\"\"\"\n",
    "En esta rutina se incluye una función para el cálculo de Ratios utilizados en el \n",
    "Índice de Género, Decisión y Representación política en las provincias argentinas de Fundar\n",
    "\n",
    "Daniela Risaro\n",
    "Área de Datos, Fundar\n",
    "Marzo 2023\n",
    "\n",
    "\"\"\"\n",
    "\n",
    "\n",
    "def calculo_ratios(df, nombres):\n",
    "\n",
    "    import numpy as np\n",
    "    import pandas as pd\n",
    "\n",
    "    \"\"\"\n",
    "    INPUTS\n",
    "    df: DataFrame. Tabla con la informacion de la cantidad de mujeres, varones y el total. \n",
    "    nombres: lista. Lista con los nombres de las columnas con la informacion de cantidad de mujeres, de varones y el total.\n",
    "\n",
    "    OUTPUTS:\n",
    "    df: DataFrame. Misma tabla con nuevas columnas agregadas: % de mujeres, varones y Ratios M/V\n",
    "    \"\"\"\n",
    "    \n",
    "    # Cantidad de mujeres en el cual se alcanza la paridad del 50%. Cuando es impar se divide restando 1\n",
    "    conditions = [\n",
    "        (df[nombres[2]]%2==0),\n",
    "        (df[nombres[2]]%2==1)]\n",
    "\n",
    "    values = [\n",
    "        df[nombres[2]]/2,\n",
    "        (df[nombres[2]]-1)/2]\n",
    "\n",
    "    df['Paridad 50%'] = np.select(conditions, values)       \n",
    "\n",
    "    # Porcentaje de mujeres/varones estandarizado al valor de paridad al 50%\n",
    "    # Este indicador (x) se lee:\n",
    "    # (si es menor al 100%): \"Falta un (100-x)% de mujeres/varones para alcanzar el punto de paridad.\"\n",
    "    # (si es mayor al 100%): \"Hay un (100-x)% mas de mujeres/varones respecto al punto de paridad.\"\n",
    "    df['Mujeres estandarizado'] = df[nombres[0]]/df['Paridad 50%']*100 \n",
    "    df['Varones estandarizado'] = df[nombres[1]]/(df[nombres[2]]-df['Paridad 50%'])*100\n",
    "\n",
    "    # Ratio entre el porcentaje de mujeres sobre varones estandarizado.\n",
    "    # En los casos en los que la participación de mujeres excede la masculina los resultados se truncan en 100\n",
    "    # Este indicador (x) se lee: \n",
    "    # (si es menor al 100%): \"Por cada 100 varones hay x mujeres.\"\n",
    "    # (si es mayor al 100%): \"La paridad está alcanzada\"\n",
    "    df['Ratio'] = df['Mujeres estandarizado']/df['Varones estandarizado']*100\n",
    "    df.loc[df['Ratio'] > 100, 'Ratio'] = 100\n",
    "    \n",
    "    return df"
   ]
  }
 ],
 "metadata": {
  "kernelspec": {
   "display_name": "Python 3.9.12 ('pyenv')",
   "language": "python",
   "name": "python3"
  },
  "language_info": {
   "codemirror_mode": {
    "name": "ipython",
    "version": 3
   },
   "file_extension": ".py",
   "mimetype": "text/x-python",
   "name": "python",
   "nbconvert_exporter": "python",
   "pygments_lexer": "ipython3",
   "version": "3.9.12"
  },
  "orig_nbformat": 4,
  "vscode": {
   "interpreter": {
    "hash": "509f5cbefa0cafc10dc1461472345186404cff510fb444dcb85013f09977a5b7"
   }
  }
 },
 "nbformat": 4,
 "nbformat_minor": 2
}
